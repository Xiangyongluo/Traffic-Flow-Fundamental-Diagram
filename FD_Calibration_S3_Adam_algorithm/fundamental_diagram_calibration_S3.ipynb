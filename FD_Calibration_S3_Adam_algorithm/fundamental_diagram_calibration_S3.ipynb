{
  "cells": [
    {
      "cell_type": "markdown",
      "metadata": {
        "id": "view-in-github",
        "colab_type": "text"
      },
      "source": [
        "<a href=\"https://colab.research.google.com/github/xyluo25/Traffic-Flow-Fundamental-Diagram/blob/fd_dev/FD_Calibration_S3_Adam_algorithm/fundamental_diagram_calibration_S3.ipynb\" target=\"_parent\"><img src=\"https://colab.research.google.com/assets/colab-badge.svg\" alt=\"Open In Colab\"/></a>"
      ]
    },
    {
      "cell_type": "markdown",
      "id": "7492a3a6",
      "metadata": {
        "toc": true,
        "id": "7492a3a6"
      },
      "source": [
        "<h1>Fundamental Diagram Calibration<span class=\"tocSkip\"></span></h1>\n",
        "<div class=\"toc\"><ul class=\"toc-item\"><li><span><a href=\"#Description\" data-toc-modified-id=\"Description-1\"><span class=\"toc-item-num\">1&nbsp;&nbsp;</span>Description</a></span></li><li><span><a href=\"#Import-Python-packages-required-for-this-project\" data-toc-modified-id=\"Import-Python-packages-required-for-this-project-2\"><span class=\"toc-item-num\">2&nbsp;&nbsp;</span>Import Python packages required for this project</a></span></li><li><span><a href=\"#Classes-and-functions-for-Calibration\" data-toc-modified-id=\"Classes-and-functions-for-Calibration-3\"><span class=\"toc-item-num\">3&nbsp;&nbsp;</span>Classes and functions for Calibration</a></span><ul class=\"toc-item\"><li><span><a href=\"#Function-to-measure-running-time\" data-toc-modified-id=\"Function-to-measure-running-time-3.1\"><span class=\"toc-item-num\">3.1&nbsp;&nbsp;</span>Function to measure running time</a></span></li><li><span><a href=\"#Fundamental-diagram-model\" data-toc-modified-id=\"Fundamental-diagram-model-3.2\"><span class=\"toc-item-num\">3.2&nbsp;&nbsp;</span>Fundamental diagram model</a></span></li><li><span><a href=\"#First-order-derivative\" data-toc-modified-id=\"First-order-derivative-3.3\"><span class=\"toc-item-num\">3.3&nbsp;&nbsp;</span>First order derivative</a></span></li><li><span><a href=\"#Calculate-estimation-values\" data-toc-modified-id=\"Calculate-estimation-values-3.4\"><span class=\"toc-item-num\">3.4&nbsp;&nbsp;</span>Calculate estimation values</a></span></li><li><span><a href=\"#Calculate-the-theoretical-value\" data-toc-modified-id=\"Calculate-the-theoretical-value-3.5\"><span class=\"toc-item-num\">3.5&nbsp;&nbsp;</span>Calculate the theoretical value</a></span></li><li><span><a href=\"#Adam-Optimizer\" data-toc-modified-id=\"Adam-Optimizer-3.6\"><span class=\"toc-item-num\">3.6&nbsp;&nbsp;</span>Adam Optimizer</a></span></li><li><span><a href=\"#Initialize-functions-to-view-q-k,-v-k-and-v-q\" data-toc-modified-id=\"Initialize-functions-to-view-q-k,-v-k-and-v-q-3.7\"><span class=\"toc-item-num\">3.7&nbsp;&nbsp;</span>Initialize functions to view q-k, v-k and v-q</a></span></li><li><span><a href=\"#Calculate-Root-Mean-Square-Error(RMSE)\" data-toc-modified-id=\"Calculate-Root-Mean-Square-Error(RMSE)-3.8\"><span class=\"toc-item-num\">3.8&nbsp;&nbsp;</span>Calculate Root Mean Square Error(RMSE)</a></span></li><li><span><a href=\"#A-class-to-calibrate-data\" data-toc-modified-id=\"A-class-to-calibrate-data-3.9\"><span class=\"toc-item-num\">3.9&nbsp;&nbsp;</span>A class to calibrate data</a></span></li></ul></li><li><span><a href=\"#Perform-the-calibration-step-by-step\" data-toc-modified-id=\"Perform-the-calibration-step-by-step-4\"><span class=\"toc-item-num\">4&nbsp;&nbsp;</span>Perform the calibration step by step</a></span><ul class=\"toc-item\"><li><span><a href=\"#Step-1:-Specify-the-input-data-path\" data-toc-modified-id=\"Step-1:-Specify-the-input-data-path-4.1\"><span class=\"toc-item-num\">4.1&nbsp;&nbsp;</span>Step 1: Specify the input data path</a></span></li><li><span><a href=\"#Step-2:-Read-your-input-data\" data-toc-modified-id=\"Step-2:-Read-your-input-data-4.2\"><span class=\"toc-item-num\">4.2&nbsp;&nbsp;</span>Step 2: Read your input data</a></span><ul class=\"toc-item\"><li><span><a href=\"#Step-1.1-check-if-required-columns-in-the-dataframe\" data-toc-modified-id=\"Step-1.1-check-if-required-columns-in-the-dataframe-4.2.1\"><span class=\"toc-item-num\">4.2.1&nbsp;&nbsp;</span>Step 1.1 check if required columns in the dataframe</a></span></li></ul></li><li><span><a href=\"#Step-3:-Obtain-Flow,-Density,-Speed-data-accordingly\" data-toc-modified-id=\"Step-3:-Obtain-Flow,-Density,-Speed-data-accordingly-4.3\"><span class=\"toc-item-num\">4.3&nbsp;&nbsp;</span>Step 3: Obtain Flow, Density, Speed data accordingly</a></span></li><li><span><a href=\"#Step-4:-Calibrate\" data-toc-modified-id=\"Step-4:-Calibrate-4.4\"><span class=\"toc-item-num\">4.4&nbsp;&nbsp;</span>Step 4: Calibrate</a></span></li><li><span><a href=\"#Step-5:-Print-results\" data-toc-modified-id=\"Step-5:-Print-results-4.5\"><span class=\"toc-item-num\">4.5&nbsp;&nbsp;</span>Step 5: Print results</a></span></li><li><span><a href=\"#Step-6:-Plot-results\" data-toc-modified-id=\"Step-6:-Plot-results-4.6\"><span class=\"toc-item-num\">4.6&nbsp;&nbsp;</span>Step 6: Plot results</a></span></li></ul></li></ul></div>"
      ]
    },
    {
      "cell_type": "markdown",
      "id": "0486f8cd",
      "metadata": {
        "id": "0486f8cd"
      },
      "source": [
        "# Description "
      ]
    },
    {
      "cell_type": "markdown",
      "id": "5a6bb8ae",
      "metadata": {
        "id": "5a6bb8ae"
      },
      "source": [
        "[Fundamental diagram of traffic flow](https://en.wikipedia.org/wiki/Fundamental_diagram_of_traffic_flow)\n",
        "\n",
        "The **fundamental diagram** of traffic flow is a diagram that gives a relation between road traffic flux (vehicles/hour) and the traffic density (vehicles/km). A macroscopic traffic model involving traffic flux, traffic density and velocity forms the basis of the fundamental diagram. It can be used to predict the capability of a road system, or its behaviour when applying inflow regulation or speed limits.\n",
        "\n",
        "\n",
        "\n",
        "**Basic statements**\n",
        "\n",
        "There is a connection between traffic density and vehicle velocity: The more vehicles are on a road, the slower their velocity will be.\n",
        "To prevent congestion and to keep traffic flow stable, the number of vehicles entering the control zone has to be smaller or equal to the number of vehicles leaving the zone in the same time.\n",
        "At a critical traffic density and a corresponding critical velocity the state of flow will change from stable to unstable.\n",
        "If one of the vehicles brakes in unstable flow regime the flow will collapse.\n",
        "The primary tool for graphically displaying information in the study traffic flow is the fundamental diagram. Fundamental diagrams consist of three different graphs: flow-density, speed-flow, and speed-density. The graphs are two dimensional graphs. All the graphs are related by the equation “flow = speed * density”; this equation is the essential equation in traffic flow. The fundamental diagrams were derived by the plotting of field data points and giving these data points a best fit curve. With the fundamental diagrams researchers can explore the relationship between speed, flow, and density of traffic.\n",
        "\n",
        "**Speed-density**\n",
        "\n",
        "The speed-density relationship is linear with a negative slope; therefore, as the density increases the speed of the roadway decreases. The line crosses the speed axis, y, at the free flow speed, and the line crosses the density axis, x, at the jam density. Here the speed approaches free flow speed as the density approaches zero. As the density increases, the speed of the vehicles on the roadway decreases. The speed reaches approximately zero when the density equals the jam density.\n",
        "\n",
        "**Flow-density**\n",
        "\n",
        "In the study of traffic flow theory, the flow-density diagram is used to determine the traffic state of a roadway. Currently, there are two types of flow density graphs: parabolic and triangular. Academia views the triangular flow-density curve as more the accurate representation of real world events. The triangular curve consists of two vectors. The first vector is the freeflow side of the curve. This vector is created by placing the freeflow velocity vector of a roadway at the origin of the flow-density graph. The second vector is the congested branch, which is created by placing the vector of the shock wave speed at zero flow and jam density. The congested branch has a negative slope, which implies that the higher the density on the congested branch the lower the flow; therefore, even though there are more cars on the road, the number of cars passing a single point is less than if there were fewer cars on the road. The intersection of freeflow and congested vectors is the apex of the curve and is considered the capacity of the roadway, which is the traffic condition at which the maximum number of vehicles can pass by a point in a given time period. The flow and capacity at which this point occurs is the optimum flow and optimum density, respectively. The flow density diagram is used to give the traffic condition of a roadway. With the traffic conditions, time-space diagrams can be created to give travel time, delay, and queue lengths of a road segment.\n",
        "\n",
        "**Speed-flow**\n",
        "\n",
        "Speed – flow diagrams are used to determine the speed at which the optimum flow occurs. There are currently two shapes of the speed-flow curve. The speed-flow curve also consists of two branches, the free flow and congested branches. The diagram is not a function, allowing the flow variable to exist at two different speeds. The flow variable existing at two different speeds occurs when the speed is higher and the density is lower or when the speed is lower and the density is higher, which allows for the same flow rate. In the first speed-flow diagram, the free flow branch is a horizontal line, which shows that the roadway is at free flow speed until the optimum flow is reached. Once the optimum flow is reached, the diagram switches to the congested branch, which is a parabolic shape. The second speed flow diagram is a parabola. The parabola suggests that the only time there is free flow speed is when the density approaches zero; it also suggests that as the flow increases the speed decreases. This parabolic graph also contains an optimum flow. The optimum flow also divides the free flow and congested branches on the parabolic graph.\n",
        "\n"
      ]
    },
    {
      "cell_type": "markdown",
      "id": "46c46a17",
      "metadata": {
        "id": "46c46a17"
      },
      "source": [
        "# Import Python packages required for this project"
      ]
    },
    {
      "cell_type": "code",
      "execution_count": 22,
      "id": "611745d2",
      "metadata": {
        "ExecuteTime": {
          "end_time": "2022-11-26T16:07:55.746833Z",
          "start_time": "2022-11-26T16:07:55.725605Z"
        },
        "id": "611745d2"
      },
      "outputs": [],
      "source": [
        "from math import sqrt\n",
        "import matplotlib.pyplot as plt\n",
        "import numpy as np\n",
        "import pandas as pd\n",
        "from sklearn.metrics import mean_squared_error, r2_score\n",
        "from datetime import datetime\n",
        "import os"
      ]
    },
    {
      "cell_type": "code",
      "execution_count": 23,
      "id": "97a8231f",
      "metadata": {
        "ExecuteTime": {
          "end_time": "2022-11-26T16:07:56.399330Z",
          "start_time": "2022-11-26T16:07:56.382332Z"
        },
        "id": "97a8231f"
      },
      "outputs": [],
      "source": [
        "# Settings for matplotlib\n",
        "plt.rcParams.update({'figure.max_open_warning': 0})\n",
        "plt.rc('font', family='Times New Roman')\n",
        "plt.rcParams['mathtext.fontset'] = 'stix'"
      ]
    },
    {
      "cell_type": "markdown",
      "id": "88cb129a",
      "metadata": {
        "id": "88cb129a"
      },
      "source": [
        "#  Classes and functions for Calibration"
      ]
    },
    {
      "cell_type": "markdown",
      "id": "967f08bd",
      "metadata": {
        "id": "967f08bd"
      },
      "source": [
        "## Function to measure running time"
      ]
    },
    {
      "cell_type": "code",
      "execution_count": 24,
      "id": "ac1c2e75",
      "metadata": {
        "ExecuteTime": {
          "end_time": "2022-11-26T16:07:58.343147Z",
          "start_time": "2022-11-26T16:07:58.334032Z"
        },
        "id": "ac1c2e75"
      },
      "outputs": [],
      "source": [
        "def func_running_time(func):\n",
        "    def inner(*args, **kwargs):\n",
        "        print(f'INFO Begin to run function: {func.__name__} …')\n",
        "        time_start = datetime.now()\n",
        "        res = func(*args, **kwargs)\n",
        "        time_diff = datetime.now() - time_start\n",
        "        print(\n",
        "            f'INFO Finished running function: {func.__name__}, total: {time_diff.seconds}s')\n",
        "        print()\n",
        "        return res\n",
        "    return inner"
      ]
    },
    {
      "cell_type": "markdown",
      "id": "bfe044f0",
      "metadata": {
        "id": "bfe044f0"
      },
      "source": [
        "## Fundamental diagram model"
      ]
    },
    {
      "cell_type": "code",
      "execution_count": 25,
      "id": "298b2748",
      "metadata": {
        "ExecuteTime": {
          "end_time": "2022-11-26T16:07:59.889807Z",
          "start_time": "2022-11-26T16:07:59.878809Z"
        },
        "id": "298b2748"
      },
      "outputs": [],
      "source": [
        "class FundamentalDiagramModel:\n",
        "\n",
        "    def __init__(self, observed_flow: np.array, observed_density: np.array, observed_speed: np.array):\n",
        "        self.observed_flow = observed_flow\n",
        "        self.observed_density = observed_density\n",
        "        self.observed_speed = observed_speed\n",
        "\n",
        "    def S3(self, beta: list):\n",
        "        vf, kc, foc = beta\n",
        "        estimated_speed = vf/np.power(1 + np.power((self.observed_density/kc), foc), 2/foc)\n",
        "        f_obj = np.mean(np.power(estimated_speed - self.observed_speed, 2))\n",
        "        return f_obj"
      ]
    },
    {
      "cell_type": "markdown",
      "id": "8a053672",
      "metadata": {
        "id": "8a053672"
      },
      "source": [
        "## First order derivative"
      ]
    },
    {
      "cell_type": "code",
      "execution_count": 26,
      "id": "b7238663",
      "metadata": {
        "ExecuteTime": {
          "end_time": "2022-11-26T16:08:00.591935Z",
          "start_time": "2022-11-26T16:08:00.573902Z"
        },
        "id": "b7238663"
      },
      "outputs": [],
      "source": [
        "class FirstOrderDerivative:\n",
        "\n",
        "    def __init__(self, observed_flow: np.array, observed_density: np.array, observed_speed: np.array):\n",
        "        self.observed_flow = observed_flow\n",
        "        self.observed_density = observed_density\n",
        "        self.observed_speed = observed_speed\n",
        "\n",
        "    def S3(self, beta: list):\n",
        "        vf, kc, foc = beta\n",
        "\n",
        "        intermediate_variable = np.power(self.observed_density / kc, foc)\n",
        "\n",
        "        first_order_derivative_1 = 2 * np.mean((vf / np.power(1 + intermediate_variable, 2 / foc) - self.observed_speed) / np.power(1 + intermediate_variable, 2 / foc))\n",
        "\n",
        "        first_order_derivative_2 = 2 * np.mean((vf / np.power(1 + intermediate_variable, 2 / foc) - self.observed_speed) * 2 * vf * intermediate_variable / kc / np.power(1 + intermediate_variable, (foc+2)/foc))\n",
        "\n",
        "        first_order_derivative_3 = 2 * np.mean((vf / np.power(1 + intermediate_variable, 2 / foc) - self.observed_speed) * 2 * vf * ((1 + intermediate_variable) * np.log(1 + intermediate_variable) - foc * intermediate_variable * np.log(intermediate_variable)) / np.power(foc, 2) / np.power(1 + intermediate_variable, (foc+2) / foc))\n",
        "\n",
        "        first_order_derivative = np.asarray([first_order_derivative_1, first_order_derivative_2, first_order_derivative_3])\n",
        "\n",
        "        return first_order_derivative"
      ]
    },
    {
      "cell_type": "markdown",
      "id": "e9683a99",
      "metadata": {
        "id": "e9683a99"
      },
      "source": [
        "## Calculate estimation values"
      ]
    },
    {
      "cell_type": "code",
      "execution_count": 27,
      "id": "e2713379",
      "metadata": {
        "ExecuteTime": {
          "end_time": "2022-11-26T16:08:01.016846Z",
          "start_time": "2022-11-26T16:08:00.998851Z"
        },
        "id": "e2713379"
      },
      "outputs": [],
      "source": [
        "class EstimatedValue:\n",
        "\n",
        "    def __init__(self, observed_flow: np.array, observed_density: np.array, observed_speed: np.array):\n",
        "        self.observed_flow = observed_flow\n",
        "        self.observed_density = observed_density\n",
        "        self.observed_speed = observed_speed\n",
        "\n",
        "    def S3(self, beta: list):\n",
        "        vf, kc, foc = beta\n",
        "        estimated_speed = vf / np.power(1 + np.power((self.observed_density / kc), foc), 2 / foc)\n",
        "        estimated_flow = self.observed_density * estimated_speed\n",
        "        return estimated_speed, estimated_flow"
      ]
    },
    {
      "cell_type": "markdown",
      "id": "706af281",
      "metadata": {
        "id": "706af281"
      },
      "source": [
        "## Calculate the theoretical value"
      ]
    },
    {
      "cell_type": "code",
      "execution_count": 28,
      "id": "ff69ac19",
      "metadata": {
        "ExecuteTime": {
          "end_time": "2022-11-26T16:08:01.399109Z",
          "start_time": "2022-11-26T16:08:01.381077Z"
        },
        "id": "ff69ac19"
      },
      "outputs": [],
      "source": [
        "class TheoreticalValue:\n",
        "\n",
        "    def __init__(self, density: np.array):\n",
        "        self.density = density\n",
        "\n",
        "    def S3(self, beta: list):\n",
        "        vf, kc, foc = beta\n",
        "        theoretical_speed = vf / np.power(1 + np.power((self.density / kc), foc), 2 / foc)\n",
        "        theoretical_flow = self.density * theoretical_speed\n",
        "        return theoretical_speed, theoretical_flow"
      ]
    },
    {
      "cell_type": "markdown",
      "id": "9d33eafd",
      "metadata": {
        "id": "9d33eafd"
      },
      "source": [
        "## Adam Optimizer"
      ]
    },
    {
      "cell_type": "code",
      "execution_count": 29,
      "id": "839cd31c",
      "metadata": {
        "ExecuteTime": {
          "end_time": "2022-11-26T16:08:02.749696Z",
          "start_time": "2022-11-26T16:08:02.677696Z"
        },
        "code_folding": [],
        "id": "839cd31c"
      },
      "outputs": [],
      "source": [
        "class AdamOptimization:\n",
        "\n",
        "    def __init__(self, objective, first_order_derivative, bounds, x0):\n",
        "        self.n_iter = 5000\n",
        "        self.alpha = 0.01\n",
        "        self.beta1 = 0.9\n",
        "        self.beta2 = 0.999\n",
        "        self.eps = 1e-8\n",
        "        self.objective = objective\n",
        "        self.first_order_derivative = first_order_derivative\n",
        "        self.bounds = bounds\n",
        "        self.x0 = x0\n",
        "\n",
        "    def adam(self):\n",
        "        # keep track of solutions and scores\n",
        "        solutions = []\n",
        "        scores = []\n",
        "        # generate an initial point\n",
        "        x = list(self.x0)\n",
        "        score = self.objective(x)\n",
        "        # initialize first and second moments\n",
        "        m = [0.0 for _ in range(self.bounds.shape[0])]\n",
        "        v = [0.0 for _ in range(self.bounds.shape[0])]\n",
        "        # run the gradient descent updates\n",
        "        for t in range(1, self.n_iter):\n",
        "            # calculate gradient g(t)\n",
        "            g = self.first_order_derivative(x)\n",
        "            # build a solution one variable at a time\n",
        "            for i in range(self.bounds.shape[0]):\n",
        "                # m(t) = beta1 * m(t-1) + (1 - beta1) * g(t)\n",
        "                m[i] = self.beta1 * m[i] + (1.0 - self.beta1) * g[i]\n",
        "                # v(t) = beta2 * v(t-1) + (1 - beta2) * g(t)^2\n",
        "                v[i] = self.beta2 * v[i] + (1.0 - self.beta2) * g[i]**2\n",
        "                # mhat(t) = m(t) / (1 - beta1(t))\n",
        "                mhat = m[i] / (1.0 - self.beta1**(t+1))\n",
        "                # vhat(t) = v(t) / (1 - beta2(t))\n",
        "                vhat = v[i] / (1.0 - self.beta2**(t+1))\n",
        "                # x(t) = x(t-1) - alpha * mhat(t) / (sqrt(vhat(t)) + eps)\n",
        "                x[i] = x[i] - self.alpha * mhat / (sqrt(vhat) + self.eps)\n",
        "            # evaluate candidate point\n",
        "            score = self.objective(x)\n",
        "            # keep track of solutions and scores\n",
        "            solutions.append(x.copy())\n",
        "            scores.append(score)\n",
        "            # report progress\n",
        "        # print('Solution: %s, \\nOptimal function value: %.5f' %(solutions[np.argmin(scores)], min(scores)))\n",
        "        return solutions, scores\n",
        "    \n",
        "    def plot_iteration_process_adam(self, solutions):\n",
        "        # sample input range uniformly at 0.1 increments\n",
        "        xaxis = np.arange(self.bounds[0, 0], self.bounds[0, 1], 0.1)\n",
        "        yaxis = np.arange(self.bounds[1, 0], self.bounds[1, 1], 0.1)\n",
        "        x, y = np.meshgrid(xaxis, yaxis)\n",
        "        results = self.objective(x, y)\n",
        "        solutions = np.asarray(solutions)\n",
        "        fig, ax = plt.subplots(figsize=(10, 6))\n",
        "        cs = ax.contourf(x, y, results, levels=50, cmap='jet')\n",
        "        ax.set_xlim(self.bounds[0, 0], self.bounds[0, 1])\n",
        "        ax.set_ylim(self.bounds[1, 0], self.bounds[1, 1])\n",
        "        ax.set_xlabel('x')\n",
        "        ax.set_ylabel('y')\n",
        "        ax.xaxis.label.set_size(18)\n",
        "        ax.yaxis.label.set_size(18)\n",
        "        plt.tick_params(labelsize=14)\n",
        "        plt.plot(solutions[:, 0], solutions[:, 1], '.-', color='k')\n",
        "        plt.colorbar(cs)\n",
        "        plt.title('Iteration process')\n",
        "        fig.savefig('../Figures/Case 1/Iteration process.png',\n",
        "                    dpi=300, bbox_inches='tight')"
      ]
    },
    {
      "cell_type": "markdown",
      "id": "2ddaa2d9",
      "metadata": {
        "id": "2ddaa2d9"
      },
      "source": [
        "## Initialize functions to view q-k, v-k and v-q"
      ]
    },
    {
      "cell_type": "code",
      "execution_count": 30,
      "id": "781e9f0a",
      "metadata": {
        "ExecuteTime": {
          "end_time": "2022-11-26T16:08:04.034445Z",
          "start_time": "2022-11-26T16:08:04.014447Z"
        },
        "id": "781e9f0a"
      },
      "outputs": [],
      "source": [
        "class PlotCalibrationResults:\n",
        "\n",
        "    def __init__(self, observed_flow: np.array, observed_density: np.array, observed_speed: np.array, calibrated_paras: dict, output_path: str = \"../examples/Figures_s3\"):\n",
        "\n",
        "        self.observed_flow = observed_flow\n",
        "        self.observed_density = observed_density\n",
        "        self.observed_speed = observed_speed\n",
        "\n",
        "        self.calibrated_paras_S3 = calibrated_paras[\"S3\"]      # Calibrated from fundamental diagram model, vf, kc, foc\n",
        "        self.k = np.linspace(0.000001, 150,70)\n",
        "\n",
        "        self.theoretical_value = TheoreticalValue(self.k)\n",
        "        self.theoretical_speed_S3, self.theoretical_flow_S3 = self.theoretical_value.S3(self.calibrated_paras_S3)\n",
        "\n",
        "        if not os.path.exists(output_path):\n",
        "          os.makedirs(output_path)\n",
        "\n",
        "        self.output_path = output_path\n",
        "\n",
        "    def plot_qk(self, **kwargs):\n",
        "\n",
        "        fig = plt.figure(figsize=(7,5))\n",
        "        plt.scatter(self.observed_density, self.observed_flow, s = 4, marker='o', c='r', edgecolors='r', label = 'Observation')\n",
        "        plt.plot(self.k, self.theoretical_flow_S3, 'b-', linewidth=4, label = \"S3\")\n",
        "\n",
        "        plt.legend(loc='upper right', fontsize=14)\n",
        "        plt.title('Flow vs. density', fontsize=20)\n",
        "        plt.xlabel('Density (veh/mi/ln)', fontsize=16)\n",
        "        plt.ylabel('Flow (veh/h/ln)', fontsize=16)\n",
        "\n",
        "        plt.xticks(fontsize=14)\n",
        "        plt.yticks(fontsize=14)\n",
        "        plt.xlim(kwargs.get(\"xlim\")) if kwargs.get(\"xlim\") else plt.xlim((0, 150))\n",
        "        plt.ylim(kwargs.get(\"ylim\")) if kwargs.get(\"ylim\") else plt.ylim((0, 2100))\n",
        "\n",
        "        fig.savefig(f'{self.output_path}/flow vs density.png', dpi=400, bbox_inches='tight')\n",
        "        print(f\"Info: Successfully saved the figure to {self.output_path}/flow vs density.png\")\n",
        "\n",
        "    def plot_vk(self, **kwargs):\n",
        "\n",
        "        fig = plt.figure(figsize=(7,5))\n",
        "        plt.scatter(self.observed_density, self.observed_speed, s = 4, marker='o', c='r', edgecolors='r', label = 'Observation')\n",
        "        plt.plot(self.k, self.theoretical_speed_S3, 'b-', linewidth=4, label = \"S3\")\n",
        "\n",
        "        plt.title('Speed vs. density', fontsize=20)\n",
        "        plt.legend(loc='upper right', fontsize=14)\n",
        "        plt.xlabel('Density (veh/mi/ln)', fontsize=16)\n",
        "        plt.ylabel('Speed (mi/h)', fontsize=16)\n",
        "\n",
        "        plt.xlim(kwargs.get(\"xlim\")) if kwargs.get(\"xlim\") else plt.xlim((0, 150))\n",
        "        plt.ylim(kwargs.get(\"ylim\")) if kwargs.get(\"ylim\") else plt.ylim((0, 90))\n",
        "        plt.xticks(fontsize=14)\n",
        "        plt.yticks(fontsize=14)\n",
        "\n",
        "        fig.savefig(f'{self.output_path}/speed vs density.png', dpi=400, bbox_inches='tight')\n",
        "        print(f\"Info: Successfully saved the figure to {self.output_path}/speed vs density.png\")\n",
        "\n",
        "    def plot_vq(self, **kwargs):\n",
        "\n",
        "        fig = plt.figure(figsize=(7,5))\n",
        "        plt.scatter(self.observed_flow, self.observed_speed, s = 4, marker='o', c='r', edgecolors='r', label = 'Observation')\n",
        "        plt.plot(self.theoretical_flow_S3, self.theoretical_speed_S3, 'b-', linewidth=4, label = \"S3\")\n",
        "\n",
        "        plt.legend(loc='upper right', fontsize=14)\n",
        "        plt.title('Speed vs. flow', fontsize=20)\n",
        "        plt.xlabel('Flow (veh/h/ln)', fontsize=16)\n",
        "        plt.ylabel('Speed (mi/h)', fontsize=16)\n",
        "\n",
        "        plt.xticks(fontsize=14)\n",
        "        plt.yticks(fontsize=14)\n",
        "        plt.xlim(kwargs.get(\"xlim\")) if kwargs.get(\"xlim\") else plt.xlim((0, 2100))\n",
        "        plt.ylim(kwargs.get(\"ylim\")) if kwargs.get(\"ylim\") else plt.ylim((0, 90))\n",
        "\n",
        "        fig.savefig(f'{self.output_path}/speed vs flow.png', dpi=400, bbox_inches='tight')\n",
        "        print(f\"Info: Successfully saved the figure to {self.output_path}/speed vs flow.png\")\n"
      ]
    },
    {
      "cell_type": "markdown",
      "id": "ec27c518",
      "metadata": {
        "id": "ec27c518"
      },
      "source": [
        "## Calculate Root Mean Square Error(RMSE)"
      ]
    },
    {
      "cell_type": "code",
      "execution_count": 31,
      "id": "0203a8fb",
      "metadata": {
        "ExecuteTime": {
          "end_time": "2022-11-26T16:08:06.142568Z",
          "start_time": "2022-11-26T16:08:06.118559Z"
        },
        "code_folding": [
          0
        ],
        "id": "0203a8fb"
      },
      "outputs": [],
      "source": [
        "class GetMetrics:\n",
        "\n",
        "    def __init__(self, observed_flow: np.array, observed_density: np.array, observed_speed: np.array, estimated_flow: np.array, estimated_speed: np.array):\n",
        "        self.observed_flow = observed_flow\n",
        "        self.observed_density = observed_density\n",
        "        self.observed_speed = observed_speed\n",
        "        self.estimated_flow = estimated_flow\n",
        "        self.estimated_speed = estimated_speed\n",
        "\n",
        "    def RMSE_Overall(self) -> list:\n",
        "        rmse_speed = mean_squared_error(\n",
        "            self.observed_speed, self.estimated_speed, squared=False)\n",
        "        rmse_flow = mean_squared_error(\n",
        "            self.observed_flow, self.estimated_flow, squared=False)\n",
        "        r2_speed = r2_score(self.observed_speed, self.estimated_speed)\n",
        "        r2_flow = r2_score(self.observed_flow, self.estimated_flow)\n",
        "        return [rmse_speed, rmse_flow, r2_speed, r2_flow]\n",
        "\n",
        "    def RMSE_Small_Range(self, interval: int = 10) -> list:\n",
        "        rmse_speed_small_range = []\n",
        "        rmse_flow_small_range = []\n",
        "        density_max_value = min(math.ceil(max(self.observed_density) / 10), 10)\n",
        "        for i in range(density_max_value):\n",
        "            temp_index = np.where(\n",
        "                (self.observed_density >= interval*i) & (self.observed_density < interval*(i+1)))\n",
        "            observed_speed_i = self.observed_speed[temp_index]\n",
        "            estimated_speed_i = self.estimated_speed[temp_index]\n",
        "            observed_flow_i = self.observed_flow[temp_index]\n",
        "            estimated_flow_i = self.estimated_flow[temp_index]\n",
        "            try:\n",
        "                rmse_speed_small_range.append(mean_squared_error(\n",
        "                    observed_speed_i, estimated_speed_i, squared=False))\n",
        "            except Exception:\n",
        "                rmse_speed_small_range.append(0)\n",
        "\n",
        "            try:\n",
        "                rmse_flow_small_range.append(mean_squared_error(\n",
        "                    observed_flow_i, estimated_flow_i, squared=False))\n",
        "            except Exception:\n",
        "                rmse_flow_small_range.append(0)\n",
        "        observed_speed_last = self.observed_speed[np.where(\n",
        "            (self.observed_density >= density_max_value))]\n",
        "        estimated_speed_last = self.estimated_speed[np.where(\n",
        "            (self.observed_density >= density_max_value))]\n",
        "        observed_flow_last = self.observed_flow[np.where(\n",
        "            (self.observed_density >= density_max_value))]\n",
        "        estimated_flow_last = self.estimated_flow[np.where(\n",
        "            (self.observed_density >= density_max_value))]\n",
        "\n",
        "        try:\n",
        "            rmse_speed_small_range.append(mean_squared_error(\n",
        "                observed_speed_last, estimated_speed_last, squared=False))\n",
        "        except Exception:\n",
        "            rmse_speed_small_range.append(0)\n",
        "\n",
        "        try:\n",
        "            rmse_flow_small_range.append(mean_squared_error(\n",
        "                observed_flow_last, estimated_flow_last, squared=False))\n",
        "        except Exception:\n",
        "            rmse_flow_small_range.append(0)\n",
        "\n",
        "        return rmse_speed_small_range, rmse_flow_small_range"
      ]
    },
    {
      "cell_type": "markdown",
      "id": "b7778a8f",
      "metadata": {
        "id": "b7778a8f"
      },
      "source": [
        "## A class to calibrate data"
      ]
    },
    {
      "cell_type": "code",
      "execution_count": 32,
      "id": "14e8bcef",
      "metadata": {
        "ExecuteTime": {
          "end_time": "2022-11-26T16:08:07.360010Z",
          "start_time": "2022-11-26T16:08:07.342053Z"
        },
        "id": "14e8bcef"
      },
      "outputs": [],
      "source": [
        "class Calibrate:\n",
        "\n",
        "    def __init__(self, flow: np.array, density: np.array, speed: np.array):\n",
        "        self.flow = flow\n",
        "        self.density = density\n",
        "        self.speed = speed\n",
        "        self.init_model_dict()\n",
        "\n",
        "    def init_model_dict(self):\n",
        "        self.model = FundamentalDiagramModel(self.flow, self.density, self.speed)\n",
        "        self.first_order_derivative = FirstOrderDerivative(self.flow, self.density, self.speed)\n",
        "        self.model_dict = {\"S3\": self.model.S3}\n",
        "        self.derivative = {\"S3\": self.first_order_derivative.S3}\n",
        "        self.bounds = {\"S3\": np.asarray([[70, 80], [40, 50], [1, 8]])}\n",
        "        self.x0 = {\"S3\": np.asarray([75, 45, 2.7])}\n",
        "\n",
        "    @func_running_time\n",
        "    def getSolution(self, model_str):\n",
        "        # calibration\n",
        "        objective = self.model_dict[model_str]\n",
        "        derivative = self.derivative[model_str]\n",
        "        bounds = self.bounds[model_str]\n",
        "        x0 = self.x0[model_str]\n",
        "        Adam = AdamOptimization(objective, derivative, bounds, x0)\n",
        "        solutions, scores = Adam.adam()\n",
        "        parameters = solutions[np.argmin(scores)]\n",
        "        return parameters\n"
      ]
    },
    {
      "cell_type": "markdown",
      "id": "0159a7ce",
      "metadata": {
        "id": "0159a7ce"
      },
      "source": [
        "# Perform the calibration step by step"
      ]
    },
    {
      "cell_type": "markdown",
      "id": "13b44896",
      "metadata": {
        "id": "13b44896"
      },
      "source": [
        "## Step 1: Specify the input data path"
      ]
    },
    {
      "cell_type": "code",
      "execution_count": 33,
      "id": "c626a8fc",
      "metadata": {
        "ExecuteTime": {
          "end_time": "2022-11-26T16:08:08.808870Z",
          "start_time": "2022-11-26T16:08:08.778374Z"
        },
        "id": "c626a8fc"
      },
      "outputs": [],
      "source": [
        "# path_input = r\"../data/demo_data_traffic_models_1/Reading.csv\"\n",
        "path_input = r\"https://raw.githubusercontent.com/xyluo25/Traffic-Flow-Fundamental-Diagram/main/data/demo_data_traffic_models_1/Reading.csv\""
      ]
    },
    {
      "cell_type": "markdown",
      "id": "cbdb4f4c",
      "metadata": {
        "id": "cbdb4f4c"
      },
      "source": [
        "## Step 2: Read your input data"
      ]
    },
    {
      "cell_type": "code",
      "execution_count": 34,
      "id": "e59a10a7",
      "metadata": {
        "ExecuteTime": {
          "end_time": "2022-11-26T16:08:09.804612Z",
          "start_time": "2022-11-26T16:08:09.710009Z"
        },
        "id": "e59a10a7"
      },
      "outputs": [],
      "source": [
        "df_input = pd.read_csv(path_input)"
      ]
    },
    {
      "cell_type": "code",
      "execution_count": 35,
      "id": "1f386e86",
      "metadata": {
        "ExecuteTime": {
          "end_time": "2022-11-26T16:08:10.194646Z",
          "start_time": "2022-11-26T16:08:10.168647Z"
        },
        "id": "1f386e86",
        "outputId": "b0362b04-7d3d-484c-8c14-767e2fa525a2",
        "colab": {
          "base_uri": "https://localhost:8080/",
          "height": 206
        }
      },
      "outputs": [
        {
          "output_type": "execute_result",
          "data": {
            "text/plain": [
              "        date  time    flow  speed  density               datetime_iso\n",
              "0  12/1/2021  6:00  546.55  71.56     7.85  2021-12-01T06:00:00+01:00\n",
              "1  12/1/2021  6:05  561.82  71.77     8.49  2021-12-01T06:05:00+01:00\n",
              "2  12/1/2021  6:10  660.44  70.94     9.03  2021-12-01T06:10:00+01:00\n",
              "3  12/1/2021  6:15  750.76  71.60    10.36  2021-12-01T06:15:00+01:00\n",
              "4  12/1/2021  6:20  769.96  70.29    10.24  2021-12-01T06:20:00+01:00"
            ],
            "text/html": [
              "\n",
              "  <div id=\"df-afc7974e-3b5f-47ce-8948-8eeb5513c773\">\n",
              "    <div class=\"colab-df-container\">\n",
              "      <div>\n",
              "<style scoped>\n",
              "    .dataframe tbody tr th:only-of-type {\n",
              "        vertical-align: middle;\n",
              "    }\n",
              "\n",
              "    .dataframe tbody tr th {\n",
              "        vertical-align: top;\n",
              "    }\n",
              "\n",
              "    .dataframe thead th {\n",
              "        text-align: right;\n",
              "    }\n",
              "</style>\n",
              "<table border=\"1\" class=\"dataframe\">\n",
              "  <thead>\n",
              "    <tr style=\"text-align: right;\">\n",
              "      <th></th>\n",
              "      <th>date</th>\n",
              "      <th>time</th>\n",
              "      <th>flow</th>\n",
              "      <th>speed</th>\n",
              "      <th>density</th>\n",
              "      <th>datetime_iso</th>\n",
              "    </tr>\n",
              "  </thead>\n",
              "  <tbody>\n",
              "    <tr>\n",
              "      <th>0</th>\n",
              "      <td>12/1/2021</td>\n",
              "      <td>6:00</td>\n",
              "      <td>546.55</td>\n",
              "      <td>71.56</td>\n",
              "      <td>7.85</td>\n",
              "      <td>2021-12-01T06:00:00+01:00</td>\n",
              "    </tr>\n",
              "    <tr>\n",
              "      <th>1</th>\n",
              "      <td>12/1/2021</td>\n",
              "      <td>6:05</td>\n",
              "      <td>561.82</td>\n",
              "      <td>71.77</td>\n",
              "      <td>8.49</td>\n",
              "      <td>2021-12-01T06:05:00+01:00</td>\n",
              "    </tr>\n",
              "    <tr>\n",
              "      <th>2</th>\n",
              "      <td>12/1/2021</td>\n",
              "      <td>6:10</td>\n",
              "      <td>660.44</td>\n",
              "      <td>70.94</td>\n",
              "      <td>9.03</td>\n",
              "      <td>2021-12-01T06:10:00+01:00</td>\n",
              "    </tr>\n",
              "    <tr>\n",
              "      <th>3</th>\n",
              "      <td>12/1/2021</td>\n",
              "      <td>6:15</td>\n",
              "      <td>750.76</td>\n",
              "      <td>71.60</td>\n",
              "      <td>10.36</td>\n",
              "      <td>2021-12-01T06:15:00+01:00</td>\n",
              "    </tr>\n",
              "    <tr>\n",
              "      <th>4</th>\n",
              "      <td>12/1/2021</td>\n",
              "      <td>6:20</td>\n",
              "      <td>769.96</td>\n",
              "      <td>70.29</td>\n",
              "      <td>10.24</td>\n",
              "      <td>2021-12-01T06:20:00+01:00</td>\n",
              "    </tr>\n",
              "  </tbody>\n",
              "</table>\n",
              "</div>\n",
              "      <button class=\"colab-df-convert\" onclick=\"convertToInteractive('df-afc7974e-3b5f-47ce-8948-8eeb5513c773')\"\n",
              "              title=\"Convert this dataframe to an interactive table.\"\n",
              "              style=\"display:none;\">\n",
              "        \n",
              "  <svg xmlns=\"http://www.w3.org/2000/svg\" height=\"24px\"viewBox=\"0 0 24 24\"\n",
              "       width=\"24px\">\n",
              "    <path d=\"M0 0h24v24H0V0z\" fill=\"none\"/>\n",
              "    <path d=\"M18.56 5.44l.94 2.06.94-2.06 2.06-.94-2.06-.94-.94-2.06-.94 2.06-2.06.94zm-11 1L8.5 8.5l.94-2.06 2.06-.94-2.06-.94L8.5 2.5l-.94 2.06-2.06.94zm10 10l.94 2.06.94-2.06 2.06-.94-2.06-.94-.94-2.06-.94 2.06-2.06.94z\"/><path d=\"M17.41 7.96l-1.37-1.37c-.4-.4-.92-.59-1.43-.59-.52 0-1.04.2-1.43.59L10.3 9.45l-7.72 7.72c-.78.78-.78 2.05 0 2.83L4 21.41c.39.39.9.59 1.41.59.51 0 1.02-.2 1.41-.59l7.78-7.78 2.81-2.81c.8-.78.8-2.07 0-2.86zM5.41 20L4 18.59l7.72-7.72 1.47 1.35L5.41 20z\"/>\n",
              "  </svg>\n",
              "      </button>\n",
              "      \n",
              "  <style>\n",
              "    .colab-df-container {\n",
              "      display:flex;\n",
              "      flex-wrap:wrap;\n",
              "      gap: 12px;\n",
              "    }\n",
              "\n",
              "    .colab-df-convert {\n",
              "      background-color: #E8F0FE;\n",
              "      border: none;\n",
              "      border-radius: 50%;\n",
              "      cursor: pointer;\n",
              "      display: none;\n",
              "      fill: #1967D2;\n",
              "      height: 32px;\n",
              "      padding: 0 0 0 0;\n",
              "      width: 32px;\n",
              "    }\n",
              "\n",
              "    .colab-df-convert:hover {\n",
              "      background-color: #E2EBFA;\n",
              "      box-shadow: 0px 1px 2px rgba(60, 64, 67, 0.3), 0px 1px 3px 1px rgba(60, 64, 67, 0.15);\n",
              "      fill: #174EA6;\n",
              "    }\n",
              "\n",
              "    [theme=dark] .colab-df-convert {\n",
              "      background-color: #3B4455;\n",
              "      fill: #D2E3FC;\n",
              "    }\n",
              "\n",
              "    [theme=dark] .colab-df-convert:hover {\n",
              "      background-color: #434B5C;\n",
              "      box-shadow: 0px 1px 3px 1px rgba(0, 0, 0, 0.15);\n",
              "      filter: drop-shadow(0px 1px 2px rgba(0, 0, 0, 0.3));\n",
              "      fill: #FFFFFF;\n",
              "    }\n",
              "  </style>\n",
              "\n",
              "      <script>\n",
              "        const buttonEl =\n",
              "          document.querySelector('#df-afc7974e-3b5f-47ce-8948-8eeb5513c773 button.colab-df-convert');\n",
              "        buttonEl.style.display =\n",
              "          google.colab.kernel.accessAllowed ? 'block' : 'none';\n",
              "\n",
              "        async function convertToInteractive(key) {\n",
              "          const element = document.querySelector('#df-afc7974e-3b5f-47ce-8948-8eeb5513c773');\n",
              "          const dataTable =\n",
              "            await google.colab.kernel.invokeFunction('convertToInteractive',\n",
              "                                                     [key], {});\n",
              "          if (!dataTable) return;\n",
              "\n",
              "          const docLinkHtml = 'Like what you see? Visit the ' +\n",
              "            '<a target=\"_blank\" href=https://colab.research.google.com/notebooks/data_table.ipynb>data table notebook</a>'\n",
              "            + ' to learn more about interactive tables.';\n",
              "          element.innerHTML = '';\n",
              "          dataTable['output_type'] = 'display_data';\n",
              "          await google.colab.output.renderOutput(dataTable, element);\n",
              "          const docLink = document.createElement('div');\n",
              "          docLink.innerHTML = docLinkHtml;\n",
              "          element.appendChild(docLink);\n",
              "        }\n",
              "      </script>\n",
              "    </div>\n",
              "  </div>\n",
              "  "
            ]
          },
          "metadata": {},
          "execution_count": 35
        }
      ],
      "source": [
        "df_input.head()"
      ]
    },
    {
      "cell_type": "markdown",
      "id": "d856397b",
      "metadata": {
        "id": "d856397b"
      },
      "source": [
        "### Step 1.1 check if required columns in the dataframe"
      ]
    },
    {
      "cell_type": "code",
      "execution_count": 36,
      "id": "d1eb796c",
      "metadata": {
        "ExecuteTime": {
          "end_time": "2022-11-26T16:08:11.144196Z",
          "start_time": "2022-11-26T16:08:11.126168Z"
        },
        "id": "d1eb796c"
      },
      "outputs": [],
      "source": [
        "if not {\"flow\", \"density\", \"speed\"}.issubset(df_input.columns):\n",
        "    raise ValueError(\"Input dataframe must include columns: flow, density, speed\")"
      ]
    },
    {
      "cell_type": "markdown",
      "id": "cec59e6d",
      "metadata": {
        "id": "cec59e6d"
      },
      "source": [
        "## Step 3: Obtain Flow, Density, Speed data accordingly"
      ]
    },
    {
      "cell_type": "code",
      "execution_count": 37,
      "id": "293e3de3",
      "metadata": {
        "ExecuteTime": {
          "end_time": "2022-11-26T16:08:47.070702Z",
          "start_time": "2022-11-26T16:08:47.045552Z"
        },
        "id": "293e3de3"
      },
      "outputs": [],
      "source": [
        "# Step 2.1 data preprocessing, not necessary, only if you have date and time columns in your input data\n",
        "if {\"date\"}.issubset(df_input.columns):\n",
        "    date_invalid = list(df_input[df_input[\"flow\"] == 0][\"date\"].unique())\n",
        "    df_input = df_input[~df_input['date'].isin(date_invalid)]\n"
      ]
    },
    {
      "cell_type": "code",
      "execution_count": 38,
      "id": "94989b47",
      "metadata": {
        "ExecuteTime": {
          "end_time": "2022-11-26T16:09:09.459610Z",
          "start_time": "2022-11-26T16:09:09.445611Z"
        },
        "id": "94989b47"
      },
      "outputs": [],
      "source": [
        "# Step 2.2 get flow, density and speed data\n",
        "flow = np.array(df_input.flow)\n",
        "density = np.array(df_input.density)\n",
        "speed = np.array(df_input.speed)"
      ]
    },
    {
      "cell_type": "markdown",
      "id": "dddd5281",
      "metadata": {
        "id": "dddd5281"
      },
      "source": [
        "## Step 4: Calibrate"
      ]
    },
    {
      "cell_type": "code",
      "execution_count": 19,
      "id": "7ae52e51",
      "metadata": {
        "ExecuteTime": {
          "end_time": "2022-11-26T16:10:48.205288Z",
          "start_time": "2022-11-26T16:09:13.734742Z"
        },
        "id": "7ae52e51",
        "outputId": "f49210b4-a289-4972-92ee-57eec2ab9ec4",
        "colab": {
          "base_uri": "https://localhost:8080/"
        }
      },
      "outputs": [
        {
          "output_type": "stream",
          "name": "stdout",
          "text": [
            "INFO Begin to run function: getSolution …\n",
            "INFO Finished running function: getSolution, total: 203s\n",
            "\n"
          ]
        }
      ],
      "source": [
        "solver = Calibrate(flow, density, speed)\n",
        "result = {\"S3\": solver.getSolution(\"S3\")}"
      ]
    },
    {
      "cell_type": "markdown",
      "id": "f5cdf8ca",
      "metadata": {
        "id": "f5cdf8ca"
      },
      "source": [
        "## Step 5: Print results"
      ]
    },
    {
      "cell_type": "code",
      "execution_count": 39,
      "id": "4caeca21",
      "metadata": {
        "ExecuteTime": {
          "end_time": "2022-11-26T16:10:52.493226Z",
          "start_time": "2022-11-26T16:10:52.479136Z"
        },
        "id": "4caeca21",
        "outputId": "33e3a120-af72-41a3-f1d9-6371a48e8b6e",
        "colab": {
          "base_uri": "https://localhost:8080/"
        }
      },
      "outputs": [
        {
          "output_type": "stream",
          "name": "stdout",
          "text": [
            "Calibration results:\n",
            "vf = 71.90 mi/h\n",
            "kc = 33.43 veh/mi/ln\n",
            "m = 3.19\n",
            "Vc =  46.53 mi/h\n",
            "q_max =  1555.69 veh/h/ln\n"
          ]
        }
      ],
      "source": [
        "vf = result['S3'][0]\n",
        "kc = result['S3'][1]\n",
        "m = result['S3'][2]\n",
        "q_max =  kc * vf / np.power(2, 2 / m)\n",
        "vc = vf / np.power(2, 2 / m)\n",
        "\n",
        "print('Calibration results:\\n' + 'vf =', format(vf, \".2f\") + ' mi/h')\n",
        "print('kc =', format(kc, \".2f\") + ' veh/mi/ln')\n",
        "print('m =', format(result['S3'][2], '.2f'))\n",
        "print(\"Vc = \", format(vc, \".2f\") + \" mi/h\")\n",
        "print(\"q_max = \", format(q_max, \".2f\") + \" veh/h/ln\")"
      ]
    },
    {
      "cell_type": "markdown",
      "id": "350b4f87",
      "metadata": {
        "id": "350b4f87"
      },
      "source": [
        "## Step 6: Plot results"
      ]
    },
    {
      "cell_type": "code",
      "execution_count": 40,
      "id": "33bb1511",
      "metadata": {
        "id": "33bb1511",
        "outputId": "f625b71b-9df8-4eb7-b53e-e6c3f6abd376",
        "colab": {
          "base_uri": "https://localhost:8080/",
          "height": 1000
        }
      },
      "outputs": [
        {
          "output_type": "stream",
          "name": "stdout",
          "text": [
            "Info: Successfully saved the figure to ../examples/Figures_s3/flow vs density.png\n",
            "Info: Successfully saved the figure to ../examples/Figures_s3/speed vs density.png\n",
            "Info: Successfully saved the figure to ../examples/Figures_s3/speed vs flow.png\n"
          ]
        },
        {
          "output_type": "display_data",
          "data": {
            "text/plain": [
              "<Figure size 504x360 with 1 Axes>"
            ],
            "image/png": "[encoded data removed]"
          },
          "metadata": {
            "needs_background": "light"
          }
        },
        {
          "output_type": "display_data",
          "data": {
            "text/plain": [
              "<Figure size 504x360 with 1 Axes>"
            ],
            "image/png": "[encoded data removed]"
          },
          "metadata": {
            "needs_background": "light"
          }
        },
        {
          "output_type": "display_data",
          "data": {
            "text/plain": [
              "<Figure size 504x360 with 1 Axes>"
            ],
            "image/png": "[encoded data removed]"
          },
          "metadata": {
            "needs_background": "light"
          }
        }
      ],
      "source": [
        "# you can add arguements \n",
        "plot_results = PlotCalibrationResults(flow, density, speed, result)\n",
        "plot_results.plot_qk(xlim=(0, 60))\n",
        "plot_results.plot_vk(xlim=(0, 60))\n",
        "plot_results.plot_vq(ylim=(10, 80))"
      ]
    },
    {
      "cell_type": "code",
      "execution_count": 41,
      "id": "508780b9",
      "metadata": {
        "ExecuteTime": {
          "end_time": "2022-11-26T16:10:59.768094Z",
          "start_time": "2022-11-26T16:10:59.743023Z"
        },
        "id": "508780b9"
      },
      "outputs": [],
      "source": [
        "# Step 6: Get metrics\n",
        "estimated_value = EstimatedValue(flow, density, speed)\n",
        "estimated_speed, estimated_flow = estimated_value.S3(result[\"S3\"])\n",
        "\n",
        "metrics = GetMetrics(flow, density, speed, estimated_flow, estimated_speed)\n",
        "S3_RMSE_SPEED_Overall, S3_RMSE_FLOW_Overall, S3_R2_SPEED_Overall, S3_R2_FLOW_Overall = metrics.RMSE_Overall()"
      ]
    },
    {
      "cell_type": "code",
      "execution_count": 42,
      "id": "0694840d",
      "metadata": {
        "ExecuteTime": {
          "end_time": "2022-11-26T16:11:17.632457Z",
          "start_time": "2022-11-26T16:11:17.622321Z"
        },
        "id": "0694840d",
        "outputId": "56f07cdd-dbf8-4646-e44d-1116b57d3f1a",
        "colab": {
          "base_uri": "https://localhost:8080/"
        }
      },
      "outputs": [
        {
          "output_type": "execute_result",
          "data": {
            "text/plain": [
              "3.4323302145233896"
            ]
          },
          "metadata": {},
          "execution_count": 42
        }
      ],
      "source": [
        "S3_RMSE_SPEED_Overall"
      ]
    },
    {
      "cell_type": "code",
      "execution_count": null,
      "id": "0ef5c69d",
      "metadata": {
        "id": "0ef5c69d"
      },
      "outputs": [],
      "source": [
        "print(\"Job done!\")"
      ]
    }
  ],
  "metadata": {
    "kernelspec": {
      "display_name": "Python [conda env:adot]",
      "language": "python",
      "name": "conda-env-adot-py"
    },
    "language_info": {
      "codemirror_mode": {
        "name": "ipython",
        "version": 3
      },
      "file_extension": ".py",
      "mimetype": "text/x-python",
      "name": "python",
      "nbconvert_exporter": "python",
      "pygments_lexer": "ipython3",
      "version": "3.10.6"
    },
    "nbTranslate": {
      "displayLangs": [
        "*"
      ],
      "hotkey": "alt-t",
      "langInMainMenu": true,
      "sourceLang": "en",
      "targetLang": "fr",
      "useGoogleTranslate": true
    },
    "toc": {
      "base_numbering": 1,
      "nav_menu": {},
      "number_sections": true,
      "sideBar": true,
      "skip_h1_title": false,
      "title_cell": "Fundamental Diagram Calibration",
      "title_sidebar": "Contents",
      "toc_cell": true,
      "toc_position": {
        "height": "calc(100% - 180px)",
        "left": "10px",
        "top": "150px",
        "width": "426.667px"
      },
      "toc_section_display": true,
      "toc_window_display": true
    },
    "varInspector": {
      "cols": {
        "lenName": 16,
        "lenType": 16,
        "lenVar": 40
      },
      "kernels_config": {
        "python": {
          "delete_cmd_postfix": "",
          "delete_cmd_prefix": "del ",
          "library": "var_list.py",
          "varRefreshCmd": "print(var_dic_list())"
        },
        "r": {
          "delete_cmd_postfix": ") ",
          "delete_cmd_prefix": "rm(",
          "library": "var_list.r",
          "varRefreshCmd": "cat(var_dic_list()) "
        }
      },
      "types_to_exclude": [
        "module",
        "function",
        "builtin_function_or_method",
        "instance",
        "_Feature"
      ],
      "window_display": false
    },
    "colab": {
      "provenance": [],
      "include_colab_link": true
    }
  },
  "nbformat": 4,
  "nbformat_minor": 5
}